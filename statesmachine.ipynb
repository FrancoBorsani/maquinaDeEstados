{
 "cells": [
  {
   "cell_type": "markdown",
   "metadata": {},
   "source": [
    "# Máquina de estados"
   ]
  },
  {
   "cell_type": "code",
   "execution_count": 11,
   "metadata": {},
   "outputs": [],
   "source": [
    "import threading        #Librería para trabajar con hilos\n",
    "import time"
   ]
  },
  {
   "cell_type": "code",
   "execution_count": 12,
   "metadata": {},
   "outputs": [],
   "source": [
    "class MyThread(threading.Thread):\n",
    "    def __init__(self, name):\n",
    "        threading.Thread.__init__(self)\n",
    "        self.name = name\n",
    "\n",
    "    def run(self):\n",
    "        print('Inicializacion del hilo: %s.' % self.name)"
   ]
  },
  {
   "cell_type": "code",
   "execution_count": 13,
   "metadata": {},
   "outputs": [],
   "source": [
    "thread1 = MyThread('A')"
   ]
  },
  {
   "cell_type": "code",
   "execution_count": 14,
   "metadata": {
    "tags": []
   },
   "outputs": [
    {
     "output_type": "stream",
     "name": "stdout",
     "text": "Starting thread A.\n"
    }
   ],
   "source": [
    "thread1.start()\n",
    "\n",
    "thread1.join()"
   ]
  },
  {
   "cell_type": "code",
   "execution_count": 15,
   "metadata": {},
   "outputs": [],
   "source": [
    "import requests\n",
    "import pytube\n",
    "import os"
   ]
  },
  {
   "cell_type": "code",
   "execution_count": 16,
   "metadata": {},
   "outputs": [],
   "source": [
    "def download(link, filelocation):\n",
    "    r = requests.get(link, stream=True)\n",
    "    with open(filelocation, 'wb') as f:\n",
    "        for chunk in r.iter_content(1024):\n",
    "            if chunk:\n",
    "                f.write(chunk)"
   ]
  },
  {
   "cell_type": "code",
   "execution_count": 17,
   "metadata": {},
   "outputs": [],
   "source": [
    "def createNewDownloadThread(link, filelocation):\n",
    "    download_thread = threading.Thread(target=download, args=(link,filelocation))\n",
    "    download_thread.start()"
   ]
  },
  {
   "cell_type": "code",
   "execution_count": null,
   "metadata": {},
   "outputs": [],
   "source": [
    "#CREACIÓN DE CARPETA:\n",
    "directorio = \"C:/Users/WINDOWSUSERNAME/Desktop/DescargasPython\"\n",
    "try:\n",
    "    os.mkdir(directorio)\n",
    "except OSError:\n",
    "    print(\"La creación del directorio %s falló\" % directorio)\n",
    "else:\n",
    "    print(\"Se ha creado el directorio: %s \" % directorio)"
   ]
  },
  {
   "cell_type": "code",
   "execution_count": 18,
   "metadata": {
    "tags": []
   },
   "outputs": [
    {
     "output_type": "stream",
     "name": "stdout",
     "text": "Ingrese el link de la imágen que desea descargar:\nC:\\Users\\MeDicenTecno\\Desktop\\img0.jpg\nC:\\Users\\MeDicenTecno\\Desktop\\img1.jpg\nC:\\Users\\MeDicenTecno\\Desktop\\img2.jpg\nC:\\Users\\MeDicenTecno\\Desktop\\img3.jpg\nC:\\Users\\MeDicenTecno\\Desktop\\img4.jpg\n"
    }
   ],
   "source": [
    "print(\"Ingrese el link de la imágen que desea descargar:\")\n",
    "link = input()\n",
    "\n",
    "for i in range(0,5):\n",
    "    file = \"C:\\\\Users\\\\COLOCATUUSUARIO\\\\Desktop\\\\img\" + str(i) + \".jpg\"\n",
    "    print (file)\n",
    "    createNewDownloadThread(f\"{link}\", file)\n"
   ]
  },
  {
   "cell_type": "code",
   "execution_count": null,
   "metadata": {},
   "outputs": [],
   "source": []
  }
 ],
 "metadata": {
  "kernelspec": {
   "display_name": "Python 3.8.4 32-bit",
   "language": "python",
   "name": "python_defaultSpec_1595274310433"
  },
  "language_info": {
   "codemirror_mode": {
    "name": "ipython",
    "version": 3
   },
   "file_extension": ".py",
   "mimetype": "text/x-python",
   "name": "python",
   "nbconvert_exporter": "python",
   "pygments_lexer": "ipython3",
   "version": "3.7.3"
  }
 },
 "nbformat": 4,
 "nbformat_minor": 4
}
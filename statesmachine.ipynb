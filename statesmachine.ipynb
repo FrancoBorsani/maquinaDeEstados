{
 "cells": [
  {
   "cell_type": "markdown",
   "metadata": {},
   "source": [
    "# Máquina de estados"
   ]
  },
  {
   "cell_type": "code",
   "execution_count": 1,
   "metadata": {},
   "outputs": [],
   "source": [
    "import threading        #Librería para trabajar con hilos\n",
    "import time\n",
    "%run infoDownload.ipynb"
   ]
  },
  {
   "cell_type": "code",
   "execution_count": 2,
   "metadata": {},
   "outputs": [],
   "source": [
    "class MyThread(threading.Thread):\n",
    "    def __init__(self, name):\n",
    "        threading.Thread.__init__(self)\n",
    "        self.name = name\n",
    "\n",
    "    def run(self):\n",
    "        print('Inicializacion del hilo: %s.' % self.name)"
   ]
  },
  {
   "cell_type": "code",
   "execution_count": 3,
   "metadata": {},
   "outputs": [],
   "source": [
    "thread1 = MyThread('A')"
   ]
  },
  {
   "cell_type": "code",
   "execution_count": 4,
   "metadata": {
    "tags": []
   },
   "outputs": [
    {
     "output_type": "stream",
     "name": "stdout",
     "text": "Inicializacion del hilo: A.\n"
    }
   ],
   "source": [
    "thread1.start()\n",
    "\n",
    "thread1.join()"
   ]
  },
  {
   "cell_type": "code",
   "execution_count": 5,
   "metadata": {},
   "outputs": [],
   "source": [
    "import requests\n",
    "import pytube\n",
    "import os\n",
    "import getpass"
   ]
  },
  {
   "cell_type": "code",
   "execution_count": 6,
   "metadata": {},
   "outputs": [],
   "source": [
    "def download(link, filelocation):\n",
    "    r = requests.get(link, stream=True)\n",
    "    with open(filelocation, 'wb') as f:\n",
    "        for chunk in r.iter_content(1024):\n",
    "            if chunk:\n",
    "                f.write(chunk)"
   ]
  },
  {
   "cell_type": "code",
   "execution_count": 7,
   "metadata": {},
   "outputs": [],
   "source": [
    "def createNewDownloadThread(link, filelocation):\n",
    "    download_thread = threading.Thread(target=download, args=(link,filelocation))\n",
    "    download_thread.start()"
   ]
  },
  {
   "cell_type": "code",
   "execution_count": 8,
   "metadata": {
    "tags": []
   },
   "outputs": [
    {
     "output_type": "stream",
     "name": "stdout",
     "text": "Se ha creado el directorio: C:/Users/FRANCO USER/Desktop/Videos \n"
    }
   ],
   "source": [
    "#CREACIÓN DE CARPETA:\n",
    "username = getpass.getuser()\n",
    "directorio = \"C:/Users/\"+username+\"/Desktop/Videos\"\n",
    "try:\n",
    "    os.mkdir(directorio)\n",
    "except OSError:\n",
    "    print(\"La creación del directorio %s falló\" % directorio)\n",
    "else:\n",
    "    print(\"Se ha creado el directorio: %s \" % directorio)"
   ]
  },
  {
   "cell_type": "code",
   "execution_count": 9,
   "metadata": {
    "tags": []
   },
   "outputs": [
    {
     "output_type": "stream",
     "name": "stdout",
     "text": "--------------------------------------------------------------------------------\n\n\n******************** DETALLES VIDEO 1 ****************************\nInfoDownload: [Video:Video: [idVideo:KfFCfUTX4Nk], [Url:https://www.youtube.com/watch?v=KfFCfUTX4Nk\n]], [Titulo:Video 10:  Diseño de Máquinas de Estado], [Descripcion:En este video se muestra cómo describir en VHDL una máquina de estados (FSM) a partir de su diagrama de estados.], [Duracion:2423]], [Peso:61396256]\n\n\n******************** DETALLES VIDEO 2 ****************************\nInfoDownload: [Video:Video: [idVideo:LxUaNOq6Fbw], [Url:https://www.youtube.com/watch?v=LxUaNOq6Fbw\n]], [Titulo:Metaprogramación en Python - Raúl Cumplido - Track Avanzado], [Descripcion:Según wikipedia: “La metaprogramación consiste en escribir programas que escriben o manipulan otros programas (o a sí mismos) como datos, o que hacen en tiempo de compilación parte del trabajo que, de otra forma, se haría en tiempo de ejecución. Esto permite al programador ahorrar tiempo en la producción de código.” En esta charla veremos diferentes mecanismos que Python proporciona como: - Decoradores - Metaclasses.], [Duracion:1888]], [Peso:86571194]\n\n\n******************** DETALLES VIDEO 3 ****************************\nInfoDownload: [Video:Video: [idVideo:iliKayKaGtc], [Url:https://www.youtube.com/watch?v=iliKayKaGtc\n]], [Titulo:Introducción a POO con ejemplos en Python - Programación Orientada a Objetos], [Descripcion:Conceptos básicos de programación orientada a objetos. Se habla del paradigma de objetos en forma general, sin distinción de lenguaje, y luego se ilustra con ejemplos en Python.\nObjetos: 0:20\nClases: 2:19\nAtributos: 6:23\nMétodos: 8:54\nConstructor (__init__ en Python): 10:14\nEjemplos: 13:35\nModelado con UML: 34:42\nHerencia: 44:25\nEncapsulamiento: 56:00\nOcultamiento: 58:48\nAbstracción: 1:19:08\nPolimorfismo: 1:21:46\n----\nPara comprender mejor los conceptos de este video se es recomendable tener conocimientos iniciales de programación. Si necesitas repasarlos, en esta lista de videos se encuentra un curso de programación básica (conceptos generales, aplicados en Python): www.youtube.com/watch?v=PBChlAXf1j0&list=PLb_E6BNMg5j7-MJ0ctjvKQlv2PU7qbMDb\n-----\nCódigo de los ejemplos mostrados en el video: https://github.com/programacion-desde-cero/Ejemplos/blob/master/poo.py], [Duracion:5359]], [Peso:168981599]\n\n\n******************** DETALLES VIDEO 4 ****************************\nInfoDownload: [Video:Video: [idVideo:dzbd1kBV1Vc], [Url:https://www.youtube.com/watch?v=dzbd1kBV1Vc\n]], [Titulo:Programación funcional con Python], [Descripcion:Introducción al paradigma de programación funcional utilizando Python con aplicación a análisis de datos.], [Duracion:3166]], [Peso:90710268]\n\n\n******************** DETALLES VIDEO 5 ****************************\nInfoDownload: [Video:Video: [idVideo:fxavwHPJ36o], [Url:https://www.youtube.com/watch?v=fxavwHPJ36o]], [Titulo:Tu primer Página Web con Python3], [Descripcion:Aprende a crear un sitio web completamente desde cero utilizando Python (python3), y Flask (framework de aplicaciones web). Este ejemplo plantea la creación de un sitio con una navegación dinamica de manera similar como se haría con PHP.\nAdemas terminaremos desplegando nuestra aplicación en un servicio de la nube llamado Heroku.\n\nCÓDIGO FINAL:\nhttps://github.com/FaztWeb/python-flask-first-website\n\nPYTHON APLICACIONES DE ESCRITORIO\nhttps://youtu.be/W2kAF9pKPPE\n\nFLASK y MySQL\nhttps://youtu.be/IgCfZkR8wME\n\nCURSO DE GIT:\nhttps://youtu.be/HiXLkL42tMU\n\nCURSO DE HTML:\nhttps://youtu.be/rbuYtrNUxg4\n\nCURSO DE CSS:\nhttps://youtu.be/W6GTDfrWjXs\n\nCURSO DE JAVASCRIPT:\nhttps://youtu.be/RqQ1d1qEWlE\n\nVIDEO DE VSCODE:\nhttps://youtu.be/zbycB-Yetb0\n\nVISITA MI SITIO WEB PARA MÁS CURSOS Y TUTORIALES\nhttp://www.faztweb.com\nhttp://blog.faztweb.com\n\nFAZT CODE - YOUTUBE:\nhttps://www.youtube.com/channel/UCMn28O1sQGochG94HdlthbA/videos\n\nTWITTER\nhttp://twitter.com/fazttech\n\nINSTAGRAM\nhttps://www.instagram.com/fazttech/\n\nFACEBOOK\nhttp://facebook.com/fazttech\n\nCOMUNIDAD EN DISCORD\nhttps://discord.gg/37PHuNw\n\n#python #flask #web #heroku], [Duracion:3847]], [Peso:122118100]\n"
    }
   ],
   "source": [
    "\"\"\"\n",
    "video1 = Video(1,\"https://www.youtube.com/watch?v=r0arkcOYoZo\",\"Example1\",\"This is example1\",\"15:00\");\n",
    "info1 = InfoDownload(1,video1,\"12 MB\")\n",
    "\n",
    "video2 = Video(2,\"https://www.youtube.com/watch?v=r0arkcOYoZUU\",\"Example2\",\"This is example2\",\"10:00\");\n",
    "info2 = InfoDownload(2,video2,\"15 MB\")\n",
    " \n",
    "video3 = Video(3,\"https://www.youtube.com/watch?v=r0arkcOYoZUU\",\"Example3\",\"This is example3\",\"6:00\");\n",
    "info3 = InfoDownload(3,video3,\"15 MB\")\n",
    "\n",
    "myList = []\n",
    "\n",
    "myList.append(video1)\n",
    "myList.append(video2)\n",
    "myList.append(video3)\n",
    "\n",
    "for item in myList:\n",
    "    print(item)\n",
    "\n",
    "\"\"\"\n",
    "\n",
    "listDownloads = []\n",
    "listaLiinks=list() # o tambien \"listaLiinks=[]\"\n",
    "archivo = open(\"links.txt\",\"r\")\n",
    "\n",
    "for linea in archivo:\n",
    "\tlistaLiinks.append(linea)\n",
    "\n",
    "archivo.close()\n",
    "\n",
    "contador = 0\n",
    "\n",
    "for video_url in listaLiinks:\n",
    "    youtube = pytube.YouTube(video_url)\n",
    "    video = youtube.streams.first()\n",
    "    video.download(\"C:/Users/\"+username+\"/Desktop/Videos\")\n",
    "    contador = contador + 1\n",
    "    thread1 = MyThread(f'{contador}')\n",
    "\n",
    "    listDownloads.append(InfoDownload(contador+1,Video(youtube.video_id,video_url,youtube.title,youtube.description,    youtube.length),video.filesize))\n",
    "\n",
    "\n",
    "print(\"--------------------------------------------------------------------------------\")\n",
    "\n",
    "i=0\n",
    "for item in listDownloads:\n",
    "      i=i+1\n",
    "      print(\"\\n\\n******************** DETALLES VIDEO \"+str(i)+\" ****************************\")\n",
    "      print(item) \n",
    "\n",
    "\n",
    "    #round(answer, 2)\n",
    "\n",
    "    #print ('{:,.0f}'.format(os.path.getsize(video.filesize)/float(1<<20))+\" MB\")\n",
    "\n",
    "#file = \"C:\\\\Users\\\\COLOCATUWINDOWSUSER\\\\Desktop\\\\img\" + str(i) + \".jpg\"\n",
    " #   print (file)\n",
    " #   createNewDownloadThread(f\"{link}\", file)\n"
   ]
  },
  {
   "cell_type": "code",
   "execution_count": null,
   "metadata": {},
   "outputs": [],
   "source": []
  }
 ],
 "metadata": {
  "kernelspec": {
   "display_name": "Python 3.8.5 32-bit",
   "language": "python",
   "name": "python38532bit1abfd3f568db46bebbda67ad78b2c978"
  },
  "language_info": {
   "codemirror_mode": {
    "name": "ipython",
    "version": 3
   },
   "file_extension": ".py",
   "mimetype": "text/x-python",
   "name": "python",
   "nbconvert_exporter": "python",
   "pygments_lexer": "ipython3",
   "version": "3.8.5-final"
  }
 },
 "nbformat": 4,
 "nbformat_minor": 4
}
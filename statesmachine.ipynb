{
 "cells": [
  {
   "cell_type": "markdown",
   "metadata": {},
   "source": [
    "# Máquina de estados"
   ]
  },
  {
   "cell_type": "code",
   "execution_count": 157,
   "metadata": {
    "tags": []
   },
   "outputs": [],
   "source": [
    "import time\n",
    "import requests\n",
    "import pytube\n",
    "import os\n",
    "import getpass\n",
    "import _thread as thread\n",
    "%run infoDownload.ipynb\n",
    "from tkinter import * \n",
    "from tkinter import messagebox\n",
    "username = getpass.getuser()\n",
    "listDownloads = []\n",
    "listaLiinks=list() # o tambien \"listaLiinks=[]\"\n",
    "ordenDescargas=list() \n",
    "listPeso = []\n",
    "directorio = \"C:/Users/\"+username+\"/Desktop/Videos\""
   ]
  },
  {
   "cell_type": "code",
   "execution_count": 158,
   "metadata": {
    "tags": []
   },
   "outputs": [],
   "source": [
    "#CREACIÓN DE CARPETA:\n",
    "def createFolder():\n",
    "    try:\n",
    "        os.mkdir(directorio)\n",
    "    except OSError:\n",
    "        messagebox.showerror(\"Error\", \"La creación del directorio \"+directorio+\" falló\\n verifíque si estaba creada\")  \n",
    "    else:\n",
    "        messagebox.showinfo(\"Creada\",\"Se ha creado el directorio: \"+ directorio)"
   ]
  },
  {
   "cell_type": "code",
   "execution_count": 159,
   "metadata": {},
   "outputs": [],
   "source": [
    "def downloadDescription(link, contador):\n",
    "    youtube = pytube.YouTube(link)\n",
    "    listDownloads.append(InfoDownload(contador,Video(youtube.video_id,link,youtube.title,            youtube.description,    youtube.length), youtube.streams.first().filesize))\n",
    "    return listDownloads.pop()"
   ]
  },
  {
   "cell_type": "code",
   "execution_count": 160,
   "metadata": {},
   "outputs": [],
   "source": [
    "def descarga(item, contador):\n",
    "    youtube = pytube.YouTube(item)\n",
    "    video = youtube.streams.first()\n",
    "    video.download(\"C:/Users/\"+username+\"/Desktop/Videos\")\n",
    "    listDownloads.append(InfoDownload(contador,Video(youtube.video_id,item,youtube.title,            youtube.description,    youtube.length),video.filesize))\n",
    "    time.sleep(2)\n",
    "    \n",
    "    return True"
   ]
  },
  {
   "cell_type": "code",
   "execution_count": 161,
   "metadata": {
    "tags": []
   },
   "outputs": [],
   "source": [
    "def readAndListLinks():\n",
    "    archivo = open(\"links.txt\",\"r\")\n",
    "\n",
    "    for linea in archivo:\n",
    "        listaLiinks.append(linea)\n",
    "\n",
    "    archivo.close()"
   ]
  },
  {
   "cell_type": "code",
   "execution_count": 162,
   "metadata": {
    "tags": []
   },
   "outputs": [],
   "source": [
    "def runDowload():\n",
    "\n",
    "    contador = 0\n",
    "\n",
    "    #DESCARGA MÚLTIPLE:\n",
    "    for downloadLink in listaLiinks:\n",
    "        if(thread.start_new_thread(descarga,(downloadLink, contador, ))): #ESTADO DE LA DESCARGA\n",
    "            print(\"\\n\\n******************** DETALLES VIDEO \"+str(contador+ 1)+\" ****************************\")\n",
    "            print(downloadDescription(downloadLink, contador))\n",
    "        \n",
    "        contador = contador + 1"
   ]
  },
  {
   "cell_type": "code",
   "execution_count": 163,
   "metadata": {},
   "outputs": [],
   "source": [
    "def close_window(): \n",
    "    if messagebox.askokcancel(\"Salir\",\"Va a salir de la aplicación\"):\n",
    "        ventana.destroy()"
   ]
  },
  {
   "cell_type": "code",
   "execution_count": 164,
   "metadata": {
    "tags": []
   },
   "outputs": [],
   "source": [
    "def instructions():\n",
    "    texto1=\"1- Si aun no creó la carpeta, Pulse el boton \\\"Crear carpeta de descarga\\\" \\n        (al hacer esto se creará una carpeta llamada videos en su escritorio)        \\n\\n\"\n",
    "    texto2=\"2- Pulse el boton \\\"Cargar links\\\"  (con esto se copiarán los links del txt)  \\n\\n\"\n",
    "    texto3=\"3- Pulse el boton \\\"Comenzar descarga\\\" (con esto se iniciará la descarga)\\n\\n\\n\\n\"\n",
    "    texto4=\"NOTA: Si está creada la carpeta (la del punto 1), el botón no aparecerá, en    \\n su lugar se mostrará un mensaje informando la existencia de la carpeta\"  \n",
    "    return texto1+texto2+texto3+texto4"
   ]
  },
  {
   "cell_type": "code",
   "execution_count": 165,
   "metadata": {
    "tags": []
   },
   "outputs": [],
   "source": [
    "def getHelp():\n",
    "    ventana = Tk()\n",
    "    ventana.geometry(\"700x600\")\n",
    "    ventana.title(\"AYUDA\")\n",
    "    ventana.iconbitmap(r\"img/Icono.ico\")#ícono\n",
    "    ventana.configure(background = \"yellow\")\n",
    "    ventana.resizable(width=0, height=0)#anula la opción de máximizar y de cambiar el tamaño arrastrando con el puntero del mouse\n",
    "    titulo=Label(ventana, text = \"Estimado \"+username+\" acá se muestran las instrucciones \\n\\n\\n\" , bg = \"yellow\",fg = \"red\")\n",
    "    titulo.pack()\n",
    "    titulo.config(fg=\"black\",bg=\"yellow\",font=(\"Verdana\",16)) \n",
    "    \n",
    "    texto = Label(ventana, text = instructions() , bg = \"yellow\",fg = \"red\")\n",
    "    texto.pack()\n",
    "    texto.config(fg=\"red\",bg=\"yellow\",font=(\"Verdana\",12)) \n",
    "    \n",
    "    boton = Button(ventana, text = \"Cerrar Ventana\",command= ventana.destroy,font =\"Verdana\",background = \"red\", activebackground=\"#EF9F72\",relief=\"raised\", borderwidth=7, width = 12)\n",
    "    boton.place(x=290, y=460)\n",
    "    \n",
    "    ventana.mainloop()"
   ]
  },
  {
   "cell_type": "code",
   "execution_count": 166,
   "metadata": {},
   "outputs": [],
   "source": [
    "def menssageOrButtonCreate():\n",
    "    if os.path.isdir(directorio)==False:#si NO se creo la carpeta\n",
    "        boton2 = Button(ventana, text = \"Crear carpeta de descarga\", command = createFolder,font =\"Verdana\",background = \"deep pink\",activebackground=\"#A0D1FC\",bd=10, width = 22)\n",
    "        boton2.place(x=190, y=120)#centro_x-100 es por que el ancho del botón es 20 (20x5=90)\n",
    "    else:#si ya se creo la carpeta y se corre nuevamente el programa\n",
    "        mensaje=Label(ventana, text = \"Se ha creado la carpeta, la descarga se hará en: \"+ directorio)\n",
    "        mensaje.pack()#en lugar del boton, se avisa que ya está creada\n",
    "        mensaje.config(fg=\"white\",bg=\"dark green\",font=(\"Arial\",10))\n",
    "        mensaje.place(relx = 0.05,rely = 0.26) "
   ]
  },
  {
   "cell_type": "code",
   "execution_count": 167,
   "metadata": {},
   "outputs": [],
   "source": [
    "def buttons():\n",
    "    ventana.update()\n",
    "    centro_x = (ventana.winfo_width()/2)\n",
    "    boton1 = Button(ventana, text = \"Ayuda\", command = getHelp,font =\"Verdana\",background = \"coral\",activebackground=\"#A0D1FC\",bd=10, width = 12)\n",
    "    boton1.place(x=(centro_x-60), y=60)#centro_x-60 es por que el ancho del botón es 12 (12x5=60)\n",
    "    menssageOrButtonCreate()\n",
    "    boton3 = Button(ventana, text = \"Cargar links\", command = readAndListLinks,font =\"Verdana\",background = \"dodger blue\",activebackground=\"#A0D1FC\",bd=10, width = 14)\n",
    "    boton3.place(x=(centro_x-70), y=180)#centro_x-70 es por que el ancho del botón es 14 (14x5=70)\n",
    "    boton4 = Button(ventana, text = \"Comenzar descarga\", command = runDowload,font =\"Verdana\",background = \"forest green\",activebackground=\"#A0D1FC\",bd=10, width = 18)\n",
    "    boton4.place(x=(centro_x-90), y=240)#centro_x-90 es por que el ancho del botón es 18 (18x5=90)\n",
    "    boton = Button(ventana, text = \"Salir\",command=close_window,font =\"Verdana\",background = \"red\", activebackground=\"#EF9F72\", relief=\"raised\", borderwidth=7, width = 6)\n",
    "    boton.place(x=(centro_x-30), y=360)#centro_x-30 es por que el ancho del botón es 6 (6x5=30)"
   ]
  },
  {
   "cell_type": "code",
   "execution_count": 168,
   "metadata": {
    "tags": []
   },
   "outputs": [],
   "source": [
    "ventana = Tk()#crea el objeto\n",
    "ventana.geometry(\"600x500\")#tamaño de la ventana\n",
    "#ventana.wm_state('zoomed')#maximiza la ventana al iniciar la app\n",
    "ventana.resizable(width=0, height=0)#anula la opción de máximizar y de cambiar el tamaño arrastrando con el puntero del mouse  \n",
    "ventana.configure(background = \"lawn green\")#fondo de color sólido\n",
    "ventana.title(\"Descarga de videos\")#título\n",
    "ventana.iconbitmap(r\"img/Icono.ico\")#ícono\n",
    "ventana.protocol(\"WM_DELETE_WINDOW\",close_window)#si se preciona la \"X\" para cerrar la app, llamo a close_window que pide confirmar\n",
    "\n",
    "buttons() #botones/acciones\n",
    "\n",
    "ventana.mainloop()"
   ]
  },
  {
   "cell_type": "code",
   "execution_count": null,
   "metadata": {},
   "outputs": [],
   "source": []
  }
 ],
 "metadata": {
  "kernelspec": {
   "display_name": "Python 3.8.5 32-bit",
   "language": "python",
   "name": "python38532bit1abfd3f568db46bebbda67ad78b2c978"
  },
  "language_info": {
   "codemirror_mode": {
    "name": "ipython",
    "version": 3
   },
   "file_extension": ".py",
   "mimetype": "text/x-python",
   "name": "python",
   "nbconvert_exporter": "python",
   "pygments_lexer": "ipython3",
   "version": "3.8.5-final"
  }
 },
 "nbformat": 4,
 "nbformat_minor": 4
}
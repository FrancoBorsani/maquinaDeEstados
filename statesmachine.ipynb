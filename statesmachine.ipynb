{
 "cells": [
  {
   "cell_type": "markdown",
   "metadata": {},
   "source": [
    "# Máquina de estados"
   ]
  },
  {
   "cell_type": "code",
   "execution_count": 45,
   "metadata": {},
   "outputs": [],
   "source": [
    "import time\n",
    "import requests\n",
    "import pytube\n",
    "import os\n",
    "import getpass\n",
    "import _thread as thread\n",
    "%run infoDownload.ipynb"
   ]
  },
  {
   "cell_type": "code",
   "execution_count": 46,
   "metadata": {
    "tags": []
   },
   "outputs": [
    {
     "output_type": "stream",
     "name": "stdout",
     "text": "Se ha creado el directorio: C:/Users/MeDicenTecno/Desktop/Videos \n"
    }
   ],
   "source": [
    "#CREACIÓN DE CARPETA:\n",
    "username = getpass.getuser()\n",
    "directorio = \"C:/Users/\"+username+\"/Desktop/Videos\"\n",
    "try:\n",
    "    os.mkdir(directorio)\n",
    "except OSError:\n",
    "    print(\"La creación del directorio %s falló\" % directorio)\n",
    "else:\n",
    "    print(\"Se ha creado el directorio: %s \" % directorio)"
   ]
  },
  {
   "cell_type": "code",
   "execution_count": 47,
   "metadata": {},
   "outputs": [],
   "source": [
    "def downloadDescription(link, contador):\n",
    "    youtube = pytube.YouTube(link)\n",
    "    listDownloads.append(InfoDownload(contador,Video(youtube.video_id,link,youtube.title,            youtube.description,    youtube.length), youtube.streams.first().filesize))\n",
    "    return listDownloads.pop()"
   ]
  },
  {
   "cell_type": "code",
   "execution_count": 48,
   "metadata": {},
   "outputs": [],
   "source": [
    "def descarga(item, contador):\n",
    "    youtube = pytube.YouTube(item)\n",
    "    video = youtube.streams.first()\n",
    "    video.download(\"C:/Users/\"+username+\"/Desktop/Videos\")\n",
    "    listDownloads.append(InfoDownload(contador,Video(youtube.video_id,item,youtube.title,            youtube.description,    youtube.length),video.filesize))\n",
    "    time.sleep(2)\n",
    "    \n",
    "    return True"
   ]
  },
  {
   "cell_type": "code",
   "execution_count": 49,
   "metadata": {
    "tags": []
   },
   "outputs": [
    {
     "output_type": "stream",
     "name": "stdout",
     "text": "\n\n******************** DETALLES VIDEO 1 ****************************\nInfoDownload: [Video:Video: [idVideo:K8w7-4ZEHV4], [Url:https://www.youtube.com/watch?v=K8w7-4ZEHV4\n]], [Titulo:MÚSICA PARA JUGAR | La Mejor Música Electrónica 🔆 2019 🎳 MIX (1 HORA)], [Descripcion:MÚSICA PARA JUGAR | La Mejor Música Electrónica 🔥 2019 🚀 MIX (1 HORA)\nREGALO!!!  ( ▀ ͜͞ʖ▀)  https://youtu.be/A30B05Ksoe0\n\n●Xenial Music on Spotify! \n  https://spoti.fi/2OShLQy\n\n🔥DESCARGA ESTA APP Y ESCUCHA ESTE MIX COMPLETAMENTE SIN ANUNCIOS ♥\n↪︎https://brave.com/xen116\n\n\n\n●Best Mixes  \n 🥊 Avengers : https://youtu.be/sJ_x-BQ6r7o\n 🎧 Rubius Mix : https://youtu.be/K8w7-4ZEHV4\n\n\n\n☞Music provided by:\n\n●NoCopyrightSounds:\n  Spotify → http://bit.ly/SpotifyNCS\n  Twitter → http://twitter.com/NCSounds\n  Google+ → http://google.com/+nocopyrightsounds\n  Facebook → http://facebook.com/NoCopyrightSounds\n  Soundcloud → http://soundcloud.com/nocopyrightsounds\n\n\n●Frequency:\n  Facebook: https://www.facebook.com/frequencymusic.co\n  Youtube: https://www.youtube.com/user/FreeSongsToUse\n  Spotify: https://spoti.fi/2WtrTqr\n\n\n♫Playlist: https://bit.ly/1JXRJEV\n\n\n-------------------------------------------------------\n✓ UNETE A LA FAMILIA ( ▀ ͜͞ʖ▀)  ✓\n-------------------------------------------------------\n#edm], [Duracion:3835]], [Peso:129625661]\n\n\n******************** DETALLES VIDEO 2 ****************************\nInfoDownload: [Video:Video: [idVideo:YZFSgrVhmxQ], [Url:https://www.youtube.com/watch?v=YZFSgrVhmxQ]], [Titulo:Feinmann y Baby bancaron al jubilado justiciero y le pegaron fuerte a los que defienden chorros], [Descripcion:¡Suscribite!], [Duracion:319]], [Peso:13309095]\n"
    }
   ],
   "source": [
    "listDownloads = []\n",
    "listaLiinks=list() # o tambien \"listaLiinks=[]\"\n",
    "ordenDescargas=list() \n",
    "listPeso = []\n",
    "archivo = open(\"links.txt\",\"r\")\n",
    "\n",
    "for linea in archivo:\n",
    "    listaLiinks.append(linea)\n",
    "\n",
    "archivo.close()\n",
    "\n",
    "contador = 0\n",
    "\n",
    "#DESCARGA MÚLTIPLE:\n",
    "for downloadLink in listaLiinks:\n",
    "    if(thread.start_new_thread(descarga,(downloadLink, contador, ))): #ESTADO DE LA DESCARGA\n",
    "        print(\"\\n\\n******************** DETALLES VIDEO \"+str(contador+ 1)+\" ****************************\")\n",
    "        print(downloadDescription(downloadLink, contador))\n",
    "    \n",
    "    contador = contador + 1"
   ]
  },
  {
   "cell_type": "code",
   "execution_count": null,
   "metadata": {},
   "outputs": [],
   "source": []
  }
 ],
 "metadata": {
  "kernelspec": {
   "display_name": "Python 3.8.5 32-bit",
   "language": "python",
   "name": "python_defaultSpec_1595620723086"
  },
  "language_info": {
   "codemirror_mode": {
    "name": "ipython",
    "version": 3
   },
   "file_extension": ".py",
   "mimetype": "text/x-python",
   "name": "python",
   "nbconvert_exporter": "python",
   "pygments_lexer": "ipython3",
   "version": "3.8.5-final"
  }
 },
 "nbformat": 4,
 "nbformat_minor": 4
}
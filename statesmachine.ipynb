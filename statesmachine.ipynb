{
 "cells": [
  {
   "cell_type": "markdown",
   "metadata": {},
   "source": [
    "# Máquina de estados"
   ]
  },
  {
   "cell_type": "code",
   "execution_count": 129,
   "metadata": {},
   "outputs": [],
   "source": [
    "import threading        #Librería para trabajar con hilos\n",
    "import time\n",
    "%run infoDownload.ipynb"
   ]
  },
  {
   "cell_type": "code",
   "execution_count": 130,
   "metadata": {},
   "outputs": [],
   "source": [
    "class MyThread(threading.Thread):\n",
    "    def __init__(self, name):\n",
    "        threading.Thread.__init__(self)\n",
    "        self.name = name\n",
    "\n",
    "    def run(self):\n",
    "        print('Inicializacion del hilo: %s.' % self.name)"
   ]
  },
  {
   "cell_type": "code",
   "execution_count": 131,
   "metadata": {},
   "outputs": [],
   "source": [
    "thread1 = MyThread('A')"
   ]
  },
  {
   "cell_type": "code",
   "execution_count": 132,
   "metadata": {
    "tags": []
   },
   "outputs": [
    {
     "output_type": "stream",
     "name": "stdout",
     "text": "Inicializacion del hilo: A.\n"
    }
   ],
   "source": [
    "thread1.start()\n",
    "\n",
    "thread1.join()"
   ]
  },
  {
   "cell_type": "code",
   "execution_count": 133,
   "metadata": {},
   "outputs": [],
   "source": [
    "import requests\n",
    "import pytube\n",
    "import os\n"
   ]
  },
  {
   "cell_type": "code",
   "execution_count": 134,
   "metadata": {},
   "outputs": [],
   "source": [
    "def download(link, filelocation):\n",
    "    r = requests.get(link, stream=True)\n",
    "    with open(filelocation, 'wb') as f:\n",
    "        for chunk in r.iter_content(1024):\n",
    "            if chunk:\n",
    "                f.write(chunk)"
   ]
  },
  {
   "cell_type": "code",
   "execution_count": 135,
   "metadata": {},
   "outputs": [],
   "source": [
    "def createNewDownloadThread(link, filelocation):\n",
    "    download_thread = threading.Thread(target=download, args=(link,filelocation))\n",
    "    download_thread.start()"
   ]
  },
  {
   "cell_type": "code",
   "execution_count": 136,
   "metadata": {
    "tags": []
   },
   "outputs": [
    {
     "output_type": "stream",
     "name": "stdout",
     "text": "La creación del directorio C:/Users/Sergio/Desktop/Videos falló\n"
    }
   ],
   "source": [
    "#CREACIÓN DE CARPETA:\n",
    "directorio = \"C:/Users/Sergio/Desktop/Videos\"\n",
    "try:\n",
    "    os.mkdir(directorio)\n",
    "except OSError:\n",
    "    print(\"La creación del directorio %s falló\" % directorio)\n",
    "else:\n",
    "    print(\"Se ha creado el directorio: %s \" % directorio)"
   ]
  },
  {
   "cell_type": "code",
   "execution_count": 137,
   "metadata": {
    "tags": []
   },
   "outputs": [
    {
     "output_type": "stream",
     "name": "stdout",
     "text": "--------------------------------------------------------------------------------\n\n\n******************** DETALLES VIDEO 1 ****************************\nInfoDownload: [Video:Video: [idVideo:IRKd2o7TzU0], [Url:https://www.youtube.com/watch?v=IRKd2o7TzU0\n]], [Titulo:La otra Missy -Trailer Español Latino l Netflix], [Descripcion:Pélicula\nDisponible el 13 de Mayo\nhttps://www.netflix.com/title/81033865\n\nNo te olvides de suscribir al Canal si eres Nuevo aquí:\nhttps://goo.gl/kGv6wL\n\nSígueme en mis redes sociales:\nFacebook:  https://goo.gl/1ykifk\nTwitter: https://goo.gl/Q4f7Ak\nInstagram: https://goo.gl/yw4P91\n\n\nAvailable under the Creative Commons Attribution 3.0 Unported license\nhttps://creativecommons.org/licenses/by/3.0/\n\nDISCLAIMER  I do not own the anime, music, artwork or the lyrics. All rights reserved to their respective owners!!! This video is not meant to infringe any of the copyrights. This is for promote.\n\n Copyright Disclaimer \nTitle 17, US Code (Sections 107-118 of the copyright law, Act 1976):\nAll media in this video is used for purpose of review & commentary under terms of fair use. All footage, & images used belong to their respective companies.\nFair use is a use permitted by copyright statute that might otherwise be infringing.\n\n\nContacto : contactosettler@gmail.com\nDale like si te gusto el trailer\nNos vemos en la próxima 😃], [Duracion:137]], [Peso:9458443]\n\n\n******************** DETALLES VIDEO 2 ****************************\nInfoDownload: [Video:Video: [idVideo:ZRc1FOlSTLE], [Url:https://www.youtube.com/watch?v=ZRc1FOlSTLE\n]], [Titulo:STRANGER THINGS 4 Tráiler Teaser Español (2020)], [Descripcion:STRANGER THINGS 4 Tráiler en Español.], [Duracion:57]], [Peso:3830538]\n\n\n******************** DETALLES VIDEO 3 ****************************\nInfoDownload: [Video:Video: [idVideo:RaJtl46ADRU], [Url:https://www.youtube.com/watch?v=RaJtl46ADRU&t\n]], [Titulo:Oscuro Deseo | Tráiler oficial | Netflix], [Descripcion:Alma, una mujer casada, vive una noche de pasión con un hombre mucho más joven que ella pensando que solo sería un encuentro casual. Sin embargo, un trágico suceso la hace dudar hasta de su círculo más cercano.\n\n¿Quiénes son las víctimas? ¿Quiénes los victimarios? ¿Quiénes son inocentes o culpables? En este laberinto de luces y sombras, nada es lo que parece.\n\nOscuro Deseo se estrena el 15 de julio, solo en Netflix.\n\nSUSCRÍBETE: https://bit.ly/2W85El8\n\nAcerca de Netflix:\nNetflix es el principal servicio de entretenimiento por streaming en el mundo. Con una presencia que supera los 190 países, 183 millones de personas con membresías de pago disfrutan series de TV, documentales y películas en una variedad de géneros e idiomas. Los miembros de Netflix pueden ver lo que quieran, cuando quieran, en casi cualquier pantalla conectada a internet, y pueden reproducir, pausar y ver un título, sin publicidad ni compromisos.\n\nSigue a Netflix Latinoamérica en:\n➡️TWITTER: http://twitter.com/NetflixLAT\n➡️INSTAGRAM: http://instagram.com/NetflixLAT\n➡️FACEBOOK: http://facebook.com/NetflixLATINO\n\nOscuro Deseo | Tráiler oficial | Netflix\nhttps://youtube.com/NetflixLATAM], [Duracion:117]], [Peso:5266140]\n\n\n******************** DETALLES VIDEO 4 ****************************\nInfoDownload: [Video:Video: [idVideo:0cOsLTM5l9c], [Url:https://www.youtube.com/watch?v=0cOsLTM5l9c]], [Titulo:Brawl Stars Animation: Piper's Sugar & Spice!], [Descripcion:Download NOW!! ►► https://supr.cl/2K62CZG\nBe a BRAWLER! Subscribe!  ►►http://bit.ly/2rXFnbd\n\nFast-paced multiplayer battles from the makers of Clash of Clans, Clash Royale and Boom Beach.\n\nBattle with friends or solo across a variety of game modes in under three minutes. Unlock and upgrade dozens of powerful Brawlers with punishing super abilities. Collect unique skins to stand out and show off in the arena. Join or start a band to share tactics and fight together.\n\nBATTLE IN MULTIPLE GAME MODES\n- Gem Grab (3v3): Team up and out-strategize the opposing team. Collect and hold 10 gems to win, but get fragged and lose your gems.\n- Showdown (Solo/Duo): A battle royale style fight for survival. Collect power ups for your Brawler. Grab a friend or play solo - be the last Brawler standing in the rowdiest battle royale yet. Winner takes all!\n- Bounty (3v3): Take out opponents to earn stars, but don’t let them pick you off. The squad with the most stars wins the match!\n- Heist (3v3): Protect your team’s safe and try to crack open your opponents’. Navigate the map to sneak, blast and blow your way clear to the enemies treasure.\n- Brawl Ball (3v3): It's a whole new Brawl game! Show off your soccer/football skills and score two goals before the other team. There are no red cards here.\n- Special Events: Defend your safe against an unrelenting swarm of robots in Robo Rumble (PvE), or take on the big boss in Boss Fight.\n\n  \nSupport\nAre you having problems? Visit http://supercell.helpshift.com/a/brawl-stars/ or contact us in game by going to Settings to Help and Support.\n \nPrivacy Policy: \nhttp://supercell.com/en/privacy-policy/\n \nTerms of Service:\nhttp://supercell.com/en/terms-of-service/\n \nParent’s Guide:\nhttp://supercell.com/en/parents/], [Duracion:87]], [Peso:6904845]\n"
    }
   ],
   "source": [
    "\"\"\"\n",
    "video1 = Video(1,\"https://www.youtube.com/watch?v=r0arkcOYoZo\",\"Example1\",\"This is example1\",\"15:00\");\n",
    "info1 = InfoDownload(1,video1,\"12 MB\")\n",
    "\n",
    "video2 = Video(2,\"https://www.youtube.com/watch?v=r0arkcOYoZUU\",\"Example2\",\"This is example2\",\"10:00\");\n",
    "info2 = InfoDownload(2,video2,\"15 MB\")\n",
    " \n",
    "video3 = Video(3,\"https://www.youtube.com/watch?v=r0arkcOYoZUU\",\"Example3\",\"This is example3\",\"6:00\");\n",
    "info3 = InfoDownload(3,video3,\"15 MB\")\n",
    "\n",
    "myList = []\n",
    "\n",
    "myList.append(video1)\n",
    "myList.append(video2)\n",
    "myList.append(video3)\n",
    "\n",
    "for item in myList:\n",
    "    print(item)\n",
    "\n",
    "\"\"\"\n",
    "\n",
    "listDownloads = []\n",
    "listaLiinks=list() # o tambien \"listaLiinks=[]\"\n",
    "archivo = open(\"links.txt\",\"r\")\n",
    "\n",
    "for linea in archivo:\n",
    "\tlistaLiinks.append(linea)\n",
    "\n",
    "archivo.close()\n",
    "\n",
    "contador = 0\n",
    "\n",
    "for video_url in listaLiinks:\n",
    "    youtube = pytube.YouTube(video_url)\n",
    "    video = youtube.streams.first()\n",
    "    video.download(\"C:/Users/Sergio/Desktop/Videos\")\n",
    "    contador = contador + 1\n",
    "    thread1 = MyThread(f'{contador}')\n",
    "\n",
    "    listDownloads.append(InfoDownload(contador+1,Video(youtube.video_id,video_url,youtube.title,youtube.description,    youtube.length),video.filesize))\n",
    "\n",
    "\n",
    "print(\"--------------------------------------------------------------------------------\")\n",
    "\n",
    "i=0\n",
    "for item in listDownloads:\n",
    "      i=i+1\n",
    "      print(\"\\n\\n******************** DETALLES VIDEO \"+str(i)+\" ****************************\")\n",
    "      print(item) \n",
    "\n",
    "\n",
    "    #round(answer, 2)\n",
    "\n",
    "    #print ('{:,.0f}'.format(os.path.getsize(video.filesize)/float(1<<20))+\" MB\")\n",
    "\n",
    "#file = \"C:\\\\Users\\\\COLOCATUWINDOWSUSER\\\\Desktop\\\\img\" + str(i) + \".jpg\"\n",
    " #   print (file)\n",
    " #   createNewDownloadThread(f\"{link}\", file)\n"
   ]
  },
  {
   "cell_type": "code",
   "execution_count": null,
   "metadata": {},
   "outputs": [],
   "source": []
  }
 ],
 "metadata": {
  "kernelspec": {
   "display_name": "Python 3.8.4 32-bit",
   "language": "python",
   "name": "python_defaultSpec_1595409166408"
  },
  "language_info": {
   "codemirror_mode": {
    "name": "ipython",
    "version": 3
   },
   "file_extension": ".py",
   "mimetype": "text/x-python",
   "name": "python",
   "nbconvert_exporter": "python",
   "pygments_lexer": "ipython3",
   "version": "3.7.3"
  }
 },
 "nbformat": 4,
 "nbformat_minor": 4
}
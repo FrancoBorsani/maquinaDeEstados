{
 "cells": [
  {
   "cell_type": "markdown",
   "metadata": {},
   "source": [
    "# Máquina de estados"
   ]
  },
  {
   "cell_type": "code",
   "execution_count": 129,
   "metadata": {},
   "outputs": [],
   "source": [
    "import time\n",
    "import requests\n",
    "import pytube\n",
    "import os\n",
    "import getpass\n",
    "import _thread as thread\n",
    "%run infoDownload.ipynb"
   ]
  },
  {
   "cell_type": "code",
   "execution_count": 130,
   "metadata": {
    "tags": []
   },
   "outputs": [
    {
     "output_type": "stream",
     "name": "stdout",
     "text": "Se ha creado el directorio: C:/Users/MeDicenTecno/Desktop/Videos \n"
    }
   ],
   "source": [
    "#CREACIÓN DE CARPETA:\n",
    "username = getpass.getuser()\n",
    "directorio = \"C:/Users/\"+username+\"/Desktop/Videos\"\n",
    "try:\n",
    "    os.mkdir(directorio)\n",
    "except OSError:\n",
    "    print(\"La creación del directorio %s falló\" % directorio)\n",
    "else:\n",
    "    print(\"Se ha creado el directorio: %s \" % directorio)"
   ]
  },
  {
   "cell_type": "code",
   "execution_count": 131,
   "metadata": {},
   "outputs": [],
   "source": [
    "def descarga(item, contador):\n",
    "    youtube = pytube.YouTube(item)\n",
    "    video = youtube.streams.first()\n",
    "    video.download(\"C:/Users/\"+username+\"/Desktop/Videos\")\n",
    "    time.sleep(2)"
   ]
  },
  {
   "cell_type": "code",
   "execution_count": 132,
   "metadata": {
    "tags": []
   },
   "outputs": [
    {
     "output_type": "stream",
     "name": "stdout",
     "text": "Video  1 descargado exitosamente\nVideo  2 descargado exitosamente\n--------------------------------------------------------------------------------\nLO QUE NO MUESTRA:  [<__main__.InfoDownload object at 0x07A87D78>, <__main__.InfoDownload object at 0x079C6F58>]\n\n\n******************** DETALLES VIDEO 1 ****************************\nInfoDownload: [Video:Video: [idVideo:PHs9J-ixAU0], [Url:https://www.youtube.com/watch?v=PHs9J-ixAU0]], [Titulo:13 Minute Timer], [Descripcion:13 minute timer with alarm.\n\nIf you are looking another timer, you can search it on my channel.], [Duracion:790]], [Peso:13758629]\n\n\n******************** DETALLES VIDEO 2 ****************************\nInfoDownload: [Video:Video: [idVideo:K8w7-4ZEHV4], [Url:https://www.youtube.com/watch?v=K8w7-4ZEHV4\n]], [Titulo:MÚSICA PARA JUGAR | La Mejor Música Electrónica 🔆 2019 🎳 MIX (1 HORA)], [Descripcion:MÚSICA PARA JUGAR | La Mejor Música Electrónica 🔥 2019 🚀 MIX (1 HORA)\nREGALO!!!  ( ▀ ͜͞ʖ▀)  https://youtu.be/A30B05Ksoe0\n\n●Xenial Music on Spotify! \n  https://spoti.fi/2OShLQy\n\n🔥DESCARGA ESTA APP Y ESCUCHA ESTE MIX COMPLETAMENTE SIN ANUNCIOS ♥\n↪︎https://brave.com/xen116\n\n\n\n●Best Mixes  \n 🥊 Avengers : https://youtu.be/sJ_x-BQ6r7o\n 🎧 Rubius Mix : https://youtu.be/K8w7-4ZEHV4\n\n\n\n☞Music provided by:\n\n●NoCopyrightSounds:\n  Spotify → http://bit.ly/SpotifyNCS\n  Twitter → http://twitter.com/NCSounds\n  Google+ → http://google.com/+nocopyrightsounds\n  Facebook → http://facebook.com/NoCopyrightSounds\n  Soundcloud → http://soundcloud.com/nocopyrightsounds\n\n\n●Frequency:\n  Facebook: https://www.facebook.com/frequencymusic.co\n  Youtube: https://www.youtube.com/user/FreeSongsToUse\n  Spotify: https://spoti.fi/2WtrTqr\n\n\n♫Playlist: https://bit.ly/1JXRJEV\n\n\n-------------------------------------------------------\n✓ UNETE A LA FAMILIA ( ▀ ͜͞ʖ▀)  ✓\n-------------------------------------------------------\n#edm], [Duracion:3835]], [Peso:129625661]\n"
    }
   ],
   "source": [
    "listDownloads = []\n",
    "listaLiinks=list() # o tambien \"listaLiinks=[]\"\n",
    "ordenDescargas=list() \n",
    "listPeso = []\n",
    "archivo = open(\"links.txt\",\"r\")\n",
    "\n",
    "for linea in archivo:\n",
    "    listaLiinks.append(linea)\n",
    "\n",
    "archivo.close()\n",
    "\n",
    "aux = 0\n",
    "\n",
    "#GUARDO EL PESO DE TODOS LOS VIDEOS\n",
    "for fila in listaLiinks:\n",
    "    youtube = pytube.YouTube(fila)\n",
    "    video = youtube.streams.first()\n",
    "    Orden(fila,video.filesize)\n",
    "    listPeso.append(video.filesize)\n",
    "    aux+=1\n",
    "\n",
    "listPeso.sort() #Ordena la lista\n",
    "\n",
    "indice = 0\n",
    "\n",
    "largo = len(listaLiinks)\n",
    "\n",
    "peso = 0\n",
    "contador = 0\n",
    "\n",
    "#ORDENA LOS VIDEOS POR PESO\n",
    "while (indice < largo):\n",
    "    for item in listaLiinks:\n",
    "        youtube = pytube.YouTube(item)\n",
    "        video = youtube.streams.first()\n",
    "        Orden(item,video.filesize)\n",
    "        if (video.filesize == listPeso[peso]):\n",
    "            ordenDescargas.append(item)\n",
    "            listDownloads.append(InfoDownload(contador+1,Video(youtube.video_id,item,youtube.title,            youtube.description,    youtube.length),video.filesize))\n",
    "            listaLiinks.remove(item)\n",
    "            peso = peso + 1\n",
    "    indice = indice + 1\n",
    "\n",
    "#print(listPeso)\n",
    "contador = 0\n",
    "\n",
    "#DESCARGA MÚLTIPLE:\n",
    "for downloadLink in ordenDescargas:\n",
    "    thread.start_new_thread(descarga,(downloadLink, contador, ))\n",
    "    contador = contador + 1\n",
    "    print(\"Video \", contador, \"descargado exitosamente\")\n",
    "\n",
    "print(\"--------------------------------------------------------------------------------\")\n",
    "\n",
    "i=0\n",
    "for info in listDownloads:\n",
    "    i=i+1\n",
    "    print(\"\\n\\n******************** DETALLES VIDEO \"+str(i)+\" ****************************\")\n",
    "    print(info)\n"
   ]
  },
  {
   "cell_type": "code",
   "execution_count": null,
   "metadata": {},
   "outputs": [],
   "source": []
  }
 ],
 "metadata": {
  "kernelspec": {
   "display_name": "Python 3.8.5 32-bit",
   "language": "python",
   "name": "python_defaultSpec_1595544288375"
  },
  "language_info": {
   "codemirror_mode": {
    "name": "ipython",
    "version": 3
   },
   "file_extension": ".py",
   "mimetype": "text/x-python",
   "name": "python",
   "nbconvert_exporter": "python",
   "pygments_lexer": "ipython3",
   "version": "3.8.5-final"
  }
 },
 "nbformat": 4,
 "nbformat_minor": 4
}
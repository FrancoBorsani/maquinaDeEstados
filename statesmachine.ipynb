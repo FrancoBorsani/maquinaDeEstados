{
 "cells": [
  {
   "cell_type": "markdown",
   "metadata": {},
   "source": [
    "# Máquina de estados"
   ]
  },
  {
   "cell_type": "code",
   "execution_count": 82,
   "metadata": {},
   "outputs": [],
   "source": [
    "import threading        #Librería para trabajar con hilos\n",
    "import time\n",
    "%run infoDownload.ipynb"
   ]
  },
  {
   "cell_type": "code",
   "execution_count": 83,
   "metadata": {},
   "outputs": [],
   "source": [
    "class MyThread(threading.Thread):\n",
    "    def __init__(self, name):\n",
    "        threading.Thread.__init__(self)\n",
    "        self.name = name\n",
    "\n",
    "    def run(self):\n",
    "        print('Inicializacion del hilo: %s.' % self.name)"
   ]
  },
  {
   "cell_type": "code",
   "execution_count": 84,
   "metadata": {},
   "outputs": [],
   "source": [
    "thread1 = MyThread('A')"
   ]
  },
  {
   "cell_type": "code",
   "execution_count": 85,
   "metadata": {
    "tags": []
   },
   "outputs": [
    {
     "output_type": "stream",
     "name": "stdout",
     "text": "Inicializacion del hilo: A.\n"
    }
   ],
   "source": [
    "thread1.start()\n",
    "\n",
    "thread1.join()"
   ]
  },
  {
   "cell_type": "code",
   "execution_count": 86,
   "metadata": {},
   "outputs": [],
   "source": [
    "import requests\n",
    "import pytube\n",
    "import os\n",
    "import getpass\n",
    "import _thread as thread"
   ]
  },
  {
   "cell_type": "code",
   "execution_count": 87,
   "metadata": {},
   "outputs": [],
   "source": [
    "def download(link, filelocation):\n",
    "    r = requests.get(link, stream=True)\n",
    "    with open(filelocation, 'wb') as f:\n",
    "        for chunk in r.iter_content(1024):\n",
    "            if chunk:\n",
    "                f.write(chunk)"
   ]
  },
  {
   "cell_type": "code",
   "execution_count": 88,
   "metadata": {},
   "outputs": [],
   "source": [
    "def createNewDownloadThread(link, filelocation):\n",
    "    download_thread = threading.Thread(target=download, args=(link,filelocation))\n",
    "    download_thread.start()"
   ]
  },
  {
   "cell_type": "code",
   "execution_count": 89,
   "metadata": {
    "tags": []
   },
   "outputs": [
    {
     "output_type": "stream",
     "name": "stdout",
     "text": "Se ha creado el directorio: C:/Users/MeDicenTecno/Desktop/Videos \n"
    }
   ],
   "source": [
    "#CREACIÓN DE CARPETA:\n",
    "username = getpass.getuser()\n",
    "directorio = \"C:/Users/\"+username+\"/Desktop/Videos\"\n",
    "try:\n",
    "    os.mkdir(directorio)\n",
    "except OSError:\n",
    "    print(\"La creación del directorio %s falló\" % directorio)\n",
    "else:\n",
    "    print(\"Se ha creado el directorio: %s \" % directorio)"
   ]
  },
  {
   "cell_type": "code",
   "execution_count": 90,
   "metadata": {},
   "outputs": [],
   "source": [
    "def descarga(item, contador):\n",
    "    youtube = pytube.YouTube(item)\n",
    "    video = youtube.streams.first()\n",
    "    video.download(\"C:/Users/\"+username+\"/Desktop/Videos\")\n",
    "    time.sleep(2)\n",
    "    listDownloads.append(InfoDownload(contador+1,Video(youtube.video_id,item,youtube.title,            youtube.description,    youtube.length),video.filesize))"
   ]
  },
  {
   "cell_type": "code",
   "execution_count": 91,
   "metadata": {
    "tags": []
   },
   "outputs": [
    {
     "output_type": "stream",
     "name": "stdout",
     "text": "[11728528, 129625661]\n--------------------------------------------------------------------------------\n"
    }
   ],
   "source": [
    "\n",
    "\"\"\"\n",
    "video1 = Video(1,\"https://www.youtube.com/watch?v=r0arkcOYoZo\",\"Example1\",\"This is example1\",\"15:00\");\n",
    "info1 = InfoDownload(1,video1,\"12 MB\")\n",
    "\n",
    "video2 = Video(2,\"https://www.youtube.com/watch?v=r0arkcOYoZUU\",\"Example2\",\"This is example2\",\"10:00\");\n",
    "info2 = InfoDownload(2,video2,\"15 MB\")\n",
    " \n",
    "video3 = Video(3,\"https://www.youtube.com/watch?v=r0arkcOYoZUU\",\"Example3\",\"This is example3\",\"6:00\");\n",
    "info3 = InfoDownload(3,video3,\"15 MB\")\n",
    "\n",
    "myList = []\n",
    "\n",
    "myList.append(video1)\n",
    "myList.append(video2)\n",
    "myList.append(video3)\n",
    "\n",
    "for item in myList:\n",
    "    print(item)\n",
    "\n",
    "\"\"\"\n",
    "\n",
    "listDownloads = []\n",
    "listaLiinks=list() # o tambien \"listaLiinks=[]\"\n",
    "ordenDescargas=list() \n",
    "listPeso = []\n",
    "archivo = open(\"links.txt\",\"r\")\n",
    "\n",
    "for linea in archivo:\n",
    "    listaLiinks.append(linea)\n",
    "\n",
    "archivo.close()\n",
    "\n",
    "aux = 0\n",
    "\n",
    "for fila in listaLiinks:\n",
    "    youtube = pytube.YouTube(fila)\n",
    "    video = youtube.streams.first()\n",
    "    Orden(fila,video.filesize)\n",
    "    listPeso.append(video.filesize)\n",
    "    aux+=1\n",
    "\n",
    "listPeso.sort()\n",
    "\n",
    "\n",
    "indice = 0\n",
    "\n",
    "largo = len(listaLiinks)\n",
    "\n",
    "peso = 0\n",
    "contador = 0\n",
    "while (indice < largo):\n",
    "    for item in listaLiinks:\n",
    "        youtube = pytube.YouTube(item)\n",
    "        video = youtube.streams.first()\n",
    "        Orden(item,video.filesize)\n",
    "        if (video.filesize == listPeso[peso]):\n",
    "            ordenDescargas.append(item)\n",
    "            listaLiinks.remove(item)\n",
    "            print(item)\n",
    "            peso = peso + 1\n",
    "    indice = indice + 1\n",
    "\n",
    "print(listPeso)\n",
    "\n",
    "#DESCARGA MÚLTIPLE:\n",
    "for downloadLink in ordenDescargas:\n",
    "    thread.start_new_thread(descarga,(downloadLink, contador, ))\n",
    "\n",
    "print(\"--------------------------------------------------------------------------------\")\n",
    "\n",
    "i=0\n",
    "for info in listDownloads:\n",
    "    i=i+1\n",
    "    print(\"\\n\\n******************** DETALLES VIDEO \"+str(i)+\" ****************************\")\n",
    "    print(info) \n",
    "\n",
    "\n",
    "    #round(answer, 2)\n",
    "\n",
    "    #print ('{:,.0f}'.format(os.path.getsize(video.filesize)/float(1<<20))+\" MB\")\n",
    "\n",
    "#file = \"C:\\\\Users\\\\COLOCATUWINDOWSUSER\\\\Desktop\\\\img\" + str(i) + \".jpg\"\n",
    " #   print (file)\n",
    " #   createNewDownloadThread(f\"{link}\", file)\n",
    "\n"
   ]
  },
  {
   "cell_type": "code",
   "execution_count": null,
   "metadata": {},
   "outputs": [],
   "source": []
  }
 ],
 "metadata": {
  "kernelspec": {
   "display_name": "Python 3.8.5 32-bit",
   "language": "python",
   "name": "python_defaultSpec_1595544288375"
  },
  "language_info": {
   "codemirror_mode": {
    "name": "ipython",
    "version": 3
   },
   "file_extension": ".py",
   "mimetype": "text/x-python",
   "name": "python",
   "nbconvert_exporter": "python",
   "pygments_lexer": "ipython3",
   "version": "3.8.5-final"
  }
 },
 "nbformat": 4,
 "nbformat_minor": 4
}
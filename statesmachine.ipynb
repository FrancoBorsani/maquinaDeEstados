{
 "cells": [
  {
   "cell_type": "markdown",
   "metadata": {},
   "source": [
    "# Máquina de estados"
   ]
  },
  {
   "cell_type": "code",
   "execution_count": 1,
   "metadata": {},
   "outputs": [],
   "source": [
    "import threading        #Librería para trabajar con hilos\n",
    "import time\n",
    "%run infoDownload.ipynb"
   ]
  },
  {
   "cell_type": "code",
   "execution_count": 2,
   "metadata": {},
   "outputs": [],
   "source": [
    "class MyThread(threading.Thread):\n",
    "    def __init__(self, name):\n",
    "        threading.Thread.__init__(self)\n",
    "        self.name = name\n",
    "\n",
    "    def run(self):\n",
    "        print('Inicializacion del hilo: %s.' % self.name)"
   ]
  },
  {
   "cell_type": "code",
   "execution_count": 3,
   "metadata": {},
   "outputs": [],
   "source": [
    "thread1 = MyThread('A')"
   ]
  },
  {
   "cell_type": "code",
   "execution_count": 4,
   "metadata": {
    "tags": []
   },
   "outputs": [
    {
     "output_type": "stream",
     "name": "stdout",
     "text": "Inicializacion del hilo: A.\n"
    }
   ],
   "source": [
    "thread1.start()\n",
    "\n",
    "thread1.join()"
   ]
  },
  {
   "cell_type": "code",
   "execution_count": 5,
   "metadata": {},
   "outputs": [],
   "source": [
    "import requests\n",
    "import pytube\n",
    "import os\n"
   ]
  },
  {
   "cell_type": "code",
   "execution_count": 6,
   "metadata": {},
   "outputs": [],
   "source": [
    "def download(link, filelocation):\n",
    "    r = requests.get(link, stream=True)\n",
    "    with open(filelocation, 'wb') as f:\n",
    "        for chunk in r.iter_content(1024):\n",
    "            if chunk:\n",
    "                f.write(chunk)"
   ]
  },
  {
   "cell_type": "code",
   "execution_count": 7,
   "metadata": {},
   "outputs": [],
   "source": [
    "def createNewDownloadThread(link, filelocation):\n",
    "    download_thread = threading.Thread(target=download, args=(link,filelocation))\n",
    "    download_thread.start()"
   ]
  },
  {
   "cell_type": "code",
   "execution_count": 8,
   "metadata": {
    "tags": []
   },
   "outputs": [
    {
     "output_type": "stream",
     "name": "stdout",
     "text": "La creación del directorio C:/Users/Franc/Desktop/DescargasPython falló\n"
    }
   ],
   "source": [
    "#CREACIÓN DE CARPETA:\n",
    "directorio = \"C:/Users/Franc/Desktop/DescargasPython\"\n",
    "try:\n",
    "    os.mkdir(directorio)\n",
    "except OSError:\n",
    "    print(\"La creación del directorio %s falló\" % directorio)\n",
    "else:\n",
    "    print(\"Se ha creado el directorio: %s \" % directorio)"
   ]
  },
  {
   "cell_type": "code",
   "execution_count": 22,
   "metadata": {
    "tags": []
   },
   "outputs": [
    {
     "output_type": "stream",
     "name": "stdout",
     "text": "Ingrese la URL del video de Youtube a descargar:\n----------------------------------------------------------------------------------------\nIngrese la URL del video de Youtube a descargar:\n----------------------------------------------------------------------------------------\nInfoDownload: [Video:Video: [idVideo:r0arkcOYoZo], [Url:https://www.youtube.com/watch?v=r0arkcOYoZo]], [Titulo:CHULU FT EM3GE - MAMI DIME (Shot by Tripwshots)], [Descripcion:Ésto no es música, es droga. \n\nCHULU: https://instagram.com/chuletasmdbcrew\n\nEM3GE: https://www.instagram.com/em3ge.ts\n\nProd x @808_god\nBeat x @lxboy_\nShot by @tripwshots\n\nagradecimientos a peluqueria :\nhttps://instagram.com/newworld.peluqueria?igshid=list5st8bxyi\n\nauto:\nhttps://instagram.com/impalass_eventos?igshid=v9ssk5x5phr3\n\n accesorios de filmación:\nhttps://instagram.com/enchulame.la.camara?igshid=kkoe47098ebj], [Duracion:222]], [Peso:18998516]\nInfoDownload: [Video:Video: [idVideo:r0arkcOYoZo], [Url:https://www.youtube.com/watch?v=r0arkcOYoZo]], [Titulo:CHULU FT EM3GE - MAMI DIME (Shot by Tripwshots)], [Descripcion:Ésto no es música, es droga. \n\nCHULU: https://instagram.com/chuletasmdbcrew\n\nEM3GE: https://www.instagram.com/em3ge.ts\n\nProd x @808_god\nBeat x @lxboy_\nShot by @tripwshots\n\nagradecimientos a peluqueria :\nhttps://instagram.com/newworld.peluqueria?igshid=list5st8bxyi\n\nauto:\nhttps://instagram.com/impalass_eventos?igshid=v9ssk5x5phr3\n\n accesorios de filmación:\nhttps://instagram.com/enchulame.la.camara?igshid=kkoe47098ebj], [Duracion:222]], [Peso:18998516]\n"
    }
   ],
   "source": [
    "\"\"\"\n",
    "video1 = Video(1,\"https://www.youtube.com/watch?v=r0arkcOYoZo\",\"Example1\",\"This is example1\",\"15:00\");\n",
    "info1 = InfoDownload(1,video1,\"12 MB\")\n",
    "\n",
    "video2 = Video(2,\"https://www.youtube.com/watch?v=r0arkcOYoZUU\",\"Example2\",\"This is example2\",\"10:00\");\n",
    "info2 = InfoDownload(2,video2,\"15 MB\")\n",
    "\n",
    "video3 = Video(3,\"https://www.youtube.com/watch?v=r0arkcOYoZUU\",\"Example3\",\"This is example3\",\"6:00\");\n",
    "info3 = InfoDownload(3,video3,\"15 MB\")\n",
    "\n",
    "myList = []\n",
    "\n",
    "myList.append(video1)\n",
    "myList.append(video2)\n",
    "myList.append(video3)\n",
    "\n",
    "for item in myList:\n",
    "    print(item)\n",
    "\n",
    "\"\"\"\n",
    "\n",
    "listDownloads = []\n",
    "\n",
    "contador = 0\n",
    "while contador < 2: #Testeo una sola url\n",
    "    print(\"Ingrese la URL del video de Youtube a descargar:\")\n",
    "    video_url = 'https://www.youtube.com/watch?v=r0arkcOYoZo' # paste here your Youube videos' url\n",
    "    #video_url = input()\n",
    "    youtube = pytube.YouTube(video_url)\n",
    "    \n",
    "\n",
    "    video = youtube.streams.first()\n",
    "    video.download(\"C:/Users/Franc/Desktop/DescargasPython\")\n",
    "    contador = contador + 1\n",
    "    thread1 = MyThread(f'{contador}')\n",
    "\n",
    "    \"\"\"\n",
    "    print(youtube.title)\n",
    "    print(youtube.length) \n",
    "    print(youtube.video_id)\n",
    "    peso = video.filesize\n",
    "    print(peso / float(1048576))\n",
    "\n",
    "    print(round(peso / float(1048576),2))\n",
    "\n",
    "    \"\"\"\n",
    "\n",
    "\n",
    "    listDownloads.append(InfoDownload(contador+1,Video(youtube.video_id,video_url,youtube.title,youtube.description,    youtube.length),video.filesize))\n",
    "\n",
    "\n",
    "    print(\"----------------------------------------------------------------------------------------\");\n",
    "\n",
    "\n",
    "for item in listDownloads:\n",
    "      print(item) \n",
    "\n",
    "\n",
    "    #round(answer, 2)\n",
    "\n",
    "    #print ('{:,.0f}'.format(os.path.getsize(video.filesize)/float(1<<20))+\" MB\")\n",
    "\n",
    "#file = \"C:\\\\Users\\\\COLOCATUWINDOWSUSER\\\\Desktop\\\\img\" + str(i) + \".jpg\"\n",
    " #   print (file)\n",
    " #   createNewDownloadThread(f\"{link}\", file)\n"
   ]
  },
  {
   "cell_type": "code",
   "execution_count": null,
   "metadata": {},
   "outputs": [],
   "source": []
  }
 ],
 "metadata": {
  "kernelspec": {
   "display_name": "Python 3.8.4 32-bit",
   "language": "python",
   "name": "python_defaultSpec_1595362195369"
  },
  "language_info": {
   "codemirror_mode": {
    "name": "ipython",
    "version": 3
   },
   "file_extension": ".py",
   "mimetype": "text/x-python",
   "name": "python",
   "nbconvert_exporter": "python",
   "pygments_lexer": "ipython3",
   "version": "3.7.3"
  }
 },
 "nbformat": 4,
 "nbformat_minor": 4
}
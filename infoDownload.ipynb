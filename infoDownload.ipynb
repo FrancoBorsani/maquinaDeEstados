{
 "metadata": {
  "language_info": {
   "codemirror_mode": {
    "name": "ipython",
    "version": 3
   },
   "file_extension": ".py",
   "mimetype": "text/x-python",
   "name": "python",
   "nbconvert_exporter": "python",
   "pygments_lexer": "ipython3",
   "version": 3
  },
  "orig_nbformat": 2,
  "kernelspec": {
   "name": "python_defaultSpec_1595354201527",
   "display_name": "Python 3.7.4 64-bit"
  }
 },
 "nbformat": 4,
 "nbformat_minor": 2,
 "cells": [
  {
   "cell_type": "code",
   "execution_count": 28,
   "metadata": {},
   "outputs": [],
   "source": [
    "class Video:\n",
    "    def __init__(self, idVideo, titulo, descripcion, duracion):\n",
    "        self.__idVideo = idVideo\n",
    "        self.__titulo = titulo\n",
    "        self.__descripcion = descripcion\n",
    "        self.__duracion = duracion\n",
    "    \n",
    "    @property\n",
    "    def idVideo(self):\n",
    "        return self.__idVideo\n",
    "    \n",
    "    @idVideo.setter\n",
    "    def idVideo(self,idVideo):\n",
    "        self.__idVideo = idVideo\n",
    "    \n",
    "    @property\n",
    "    def titulo(self):\n",
    "        return self.__titulo\n",
    "    \n",
    "    @titulo.setter\n",
    "    def titulo(self,titulo):\n",
    "        self.__titulo = titulo\n",
    "\n",
    "    @property\n",
    "    def descripcion(self):\n",
    "        return self.__descripcion\n",
    "    \n",
    "    @descripcion.setter\n",
    "    def descripcion(self,descripcion):\n",
    "        self.__descripcion = descripcion\n",
    "    \n",
    "    @property\n",
    "    def duracion(self):\n",
    "        return self.__duracion\n",
    "    \n",
    "    @duracion.setter\n",
    "    def duracion(self,duracion):\n",
    "        self.__duracion = duracion\n",
    "\n",
    "    def __str__(self):\n",
    "        return \"Video: [idVideo:\" + str( self.__idVideo) + \"], [Titulo:\" + str( self.__titulo) + \"]\" + \", [Descripcion:\" + str( self.__descripcion) + \"]\" + \", [Duracion:\" + str( self.__duracion) + \"]\";"
   ]
  },
  {
   "cell_type": "code",
   "execution_count": 29,
   "metadata": {},
   "outputs": [],
   "source": [
    "class InfoDownload:\n",
    "    def __init__(self, video, peso):\n",
    "        self.__video = video\n",
    "        self.__peso = peso\n",
    "    \n",
    "    @property\n",
    "    def video(self):\n",
    "        return self.__video\n",
    "    \n",
    "    @video.setter\n",
    "    def video(self,video):\n",
    "        self.__video = video\n",
    "    \n",
    "    @property\n",
    "    def peso(self):\n",
    "        return self.__peso\n",
    "    \n",
    "    @video.setter\n",
    "    def peso(self,peso):\n",
    "        self.__peso = peso\n",
    "\n",
    "    def __str__(self):\n",
    "        return \"InfoDownload: [Video:\" + str( self.__video) + \"], [Peso:\" + str( self.__peso) + \"]\";"
   ]
  },
  {
   "cell_type": "code",
   "execution_count": 60,
   "metadata": {
    "tags": []
   },
   "outputs": [
    {
     "output_type": "stream",
     "name": "stdout",
     "text": "InfoDownload: [Video:Video1], [Peso:560]\n"
    }
   ],
   "source": [
    "info = InfoDownload(\"Video1\",560);\n",
    "\n",
    "print(info)"
   ]
  },
  {
   "cell_type": "code",
   "execution_count": 59,
   "metadata": {},
   "outputs": [],
   "source": [
    "video = Video(1,\"Example1\",\"This is example1\",\"15:00\");"
   ]
  },
  {
   "cell_type": "code",
   "execution_count": 64,
   "metadata": {
    "tags": []
   },
   "outputs": [
    {
     "output_type": "stream",
     "name": "stdout",
     "text": "Video: [idVideo:1], [Titulo:Example1], [Descripcion:This is example1], [Duracion:15:00]\n"
    }
   ],
   "source": [
    "print(video)"
   ]
  },
  {
   "cell_type": "code",
   "execution_count": 65,
   "metadata": {},
   "outputs": [
    {
     "output_type": "error",
     "ename": "TypeError",
     "evalue": "getter() takes exactly one argument (0 given)",
     "traceback": [
      "\u001b[1;31m---------------------------------------------------------------------------\u001b[0m",
      "\u001b[1;31mTypeError\u001b[0m                                 Traceback (most recent call last)",
      "\u001b[1;32m<ipython-input-65-14f821644837>\u001b[0m in \u001b[0;36m<module>\u001b[1;34m\u001b[0m\n\u001b[1;32m----> 1\u001b[1;33m \u001b[0mInfoDownload\u001b[0m\u001b[1;33m.\u001b[0m\u001b[0mvideo\u001b[0m\u001b[1;33m.\u001b[0m\u001b[0mgetter\u001b[0m\u001b[1;33m(\u001b[0m\u001b[1;33m)\u001b[0m\u001b[1;33m\u001b[0m\u001b[1;33m\u001b[0m\u001b[0m\n\u001b[0m",
      "\u001b[1;31mTypeError\u001b[0m: getter() takes exactly one argument (0 given)"
     ]
    }
   ],
   "source": [
    "InfoDownload.video = \"XXX\""
   ]
  },
  {
   "cell_type": "code",
   "execution_count": null,
   "metadata": {},
   "outputs": [],
   "source": []
  }
 ]
}